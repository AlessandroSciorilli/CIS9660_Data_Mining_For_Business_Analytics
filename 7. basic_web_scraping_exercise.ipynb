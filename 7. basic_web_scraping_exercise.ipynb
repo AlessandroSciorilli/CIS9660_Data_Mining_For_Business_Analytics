{
  "nbformat": 4,
  "nbformat_minor": 0,
  "metadata": {
    "colab": {
      "name": "basic web scraping exercise.ipynb",
      "provenance": []
    },
    "kernelspec": {
      "name": "python3",
      "display_name": "Python 3"
    },
    "language_info": {
      "name": "python"
    }
  },
  "cells": [
    {
      "cell_type": "code",
      "execution_count": 1,
      "metadata": {
        "id": "Z6BTpdFnJMmN"
      },
      "outputs": [],
      "source": [
        "#import the libraries needed\n",
        "from bs4 import BeautifulSoup\n",
        "import requests\n",
        "\n",
        "#pip install BeautifulSoup\n",
        "#pip install requests"
      ]
    },
    {
      "cell_type": "code",
      "source": [
        "#url of the website that you intend to scrape\n",
        "url = 'https://avinashjairam.github.io/example1.html'\n",
        "\n",
        "#making a request from the program to the webserver\n",
        "page = requests.get(url)\n"
      ],
      "metadata": {
        "id": "Y6FbSUeqJjP5"
      },
      "execution_count": 8,
      "outputs": []
    },
    {
      "cell_type": "code",
      "source": [
        "#printing the status code. # a status code of 200 means a request was successful\n",
        "page.status_code"
      ],
      "metadata": {
        "colab": {
          "base_uri": "https://localhost:8080/"
        },
        "id": "woBwwP45KXmQ",
        "outputId": "d5d27795-0cb9-4df4-9669-ecab9c317ebf"
      },
      "execution_count": 9,
      "outputs": [
        {
          "output_type": "execute_result",
          "data": {
            "text/plain": [
              "200"
            ]
          },
          "metadata": {},
          "execution_count": 9
        }
      ]
    },
    {
      "cell_type": "code",
      "source": [
        "#printing the raw html from the webpage\n",
        "print(page.content)"
      ],
      "metadata": {
        "colab": {
          "base_uri": "https://localhost:8080/"
        },
        "id": "4UIQMQ9nKZyo",
        "outputId": "05cf64b5-a7d8-4782-d1df-59d0137a4c5a"
      },
      "execution_count": 11,
      "outputs": [
        {
          "output_type": "stream",
          "name": "stdout",
          "text": [
            "b'<!DOCTYPE html>\\n<html>\\n\\t<head>\\n   \\t\\t<title>Welcome to CIS 3120</title>\\n\\t</head>\\n\\n\\t<body>\\n\\t\\t<h1> Welcome to CIS 3120!</h1>\\n   \\t\\t<p>Here we learn programming for analytics!</p>\\n\\t</body>\\n</html>'\n"
          ]
        }
      ]
    },
    {
      "cell_type": "code",
      "source": [
        "#importing the raw html into beautiful soup\n",
        "soup = BeautifulSoup(page.content, 'html.parser')"
      ],
      "metadata": {
        "id": "DXhDe2hALGeI"
      },
      "execution_count": 12,
      "outputs": []
    },
    {
      "cell_type": "code",
      "source": [
        "#prettify outputs the raw html into a format that is easy to read\n",
        "print(soup.prettify())"
      ],
      "metadata": {
        "colab": {
          "base_uri": "https://localhost:8080/"
        },
        "id": "EBoBxy5HLv85",
        "outputId": "3adb2d00-401c-45d2-cd63-9a65e8ba4c21"
      },
      "execution_count": 14,
      "outputs": [
        {
          "output_type": "stream",
          "name": "stdout",
          "text": [
            "<!DOCTYPE html>\n",
            "<html>\n",
            " <head>\n",
            "  <title>\n",
            "   Welcome to CIS 3120\n",
            "  </title>\n",
            " </head>\n",
            " <body>\n",
            "  <h1>\n",
            "   Welcome to CIS 3120!\n",
            "  </h1>\n",
            "  <p>\n",
            "   Here we learn programming for analytics!\n",
            "  </p>\n",
            " </body>\n",
            "</html>\n"
          ]
        }
      ]
    },
    {
      "cell_type": "code",
      "source": [
        "#find_all returns all the tags of a certain element and stores them in a list\n",
        "all_paragraph_tags = soup.find_all('p')"
      ],
      "metadata": {
        "id": "5TCJKyiLL0Lx"
      },
      "execution_count": 18,
      "outputs": []
    },
    {
      "cell_type": "code",
      "source": [
        "# In this list there is only one tag\n",
        "all_paragraph_tags"
      ],
      "metadata": {
        "colab": {
          "base_uri": "https://localhost:8080/"
        },
        "id": "6M92Fz9INMj5",
        "outputId": "075f4241-1004-4a8a-fb05-6b01b163c99f"
      },
      "execution_count": 19,
      "outputs": [
        {
          "output_type": "execute_result",
          "data": {
            "text/plain": [
              "[<p>Here we learn programming for analytics!</p>]"
            ]
          },
          "metadata": {},
          "execution_count": 19
        }
      ]
    },
    {
      "cell_type": "code",
      "source": [
        "#extracting the single element from the tag\n",
        "paragraph_data = all_paragraph_tags[0]"
      ],
      "metadata": {
        "id": "72z_TbObMqzC"
      },
      "execution_count": 20,
      "outputs": []
    },
    {
      "cell_type": "code",
      "source": [
        "#there is only 1 paragraph element in the list\n",
        "paragraph_data"
      ],
      "metadata": {
        "colab": {
          "base_uri": "https://localhost:8080/"
        },
        "id": "rHinNuZ3NB_d",
        "outputId": "25a54bba-a1ce-44db-ee38-2d29f86982b5"
      },
      "execution_count": 21,
      "outputs": [
        {
          "output_type": "execute_result",
          "data": {
            "text/plain": [
              "<p>Here we learn programming for analytics!</p>"
            ]
          },
          "metadata": {},
          "execution_count": 21
        }
      ]
    },
    {
      "cell_type": "code",
      "source": [
        "#get_text() extracts the text from a tag\n",
        "paragraph_content = paragraph_data.get_text()"
      ],
      "metadata": {
        "id": "4HkS2xCcNDi9"
      },
      "execution_count": 22,
      "outputs": []
    },
    {
      "cell_type": "code",
      "source": [
        "#printing the content of the paragraph tag\n",
        "paragraph_content"
      ],
      "metadata": {
        "colab": {
          "base_uri": "https://localhost:8080/",
          "height": 35
        },
        "id": "gY1AvxH5NpDM",
        "outputId": "4cf069b0-ca1f-4378-a040-b3026ca4b4da"
      },
      "execution_count": 23,
      "outputs": [
        {
          "output_type": "execute_result",
          "data": {
            "application/vnd.google.colaboratory.intrinsic+json": {
              "type": "string"
            },
            "text/plain": [
              "'Here we learn programming for analytics!'"
            ]
          },
          "metadata": {},
          "execution_count": 23
        }
      ]
    },
    {
      "cell_type": "code",
      "source": [
        ""
      ],
      "metadata": {
        "id": "2eOJndjNNqMm"
      },
      "execution_count": null,
      "outputs": []
    }
  ]
}